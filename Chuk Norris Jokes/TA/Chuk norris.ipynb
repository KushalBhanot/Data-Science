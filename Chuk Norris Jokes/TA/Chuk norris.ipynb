{
 "cells": [
  {
   "cell_type": "code",
   "execution_count": 2,
   "metadata": {},
   "outputs": [
    {
     "name": "stdout",
     "output_type": "stream",
     "text": [
      "(473, 1)\n"
     ]
    }
   ],
   "source": [
    "#!/usr/bin/env python\n",
    "# coding: utf-8\n",
    "\n",
    "# In[7]:\n",
    "\n",
    "\n",
    "import json\n",
    "import requests\n",
    "import pandas as pd\n",
    "import os \n",
    "\n",
    "url=\"http://api.icndb.com/jokes/json?\"# url\n",
    "\n",
    "\n",
    "pr={\n",
    "\"value\":\"\"\n",
    "}\n",
    "\n",
    "r=requests.get(url,params=pr)\n",
    "\n",
    "d=r.content\n",
    "\n",
    "p=json.loads(d)\n",
    "\n",
    "m=p[\"value\"]\n",
    "\n",
    "t=pd.read_csv(\"./Test/ID.csv\").values # this is my device location where the testcases are saved, here you give your path where your testcases are downloaded\n",
    "print(t.shape)\n",
    "t=t.reshape(-1,)\n",
    "\n",
    "a_jokes=[]\n",
    "for i in range(len(m)):\n",
    "#if id is matched with the id given in testcases\n",
    "    if(m[i]['id'] in t):\n",
    "        joke=m[i]['joke']\n",
    "        a_jokes.append(joke)\n",
    "\n",
    "df=pd.DataFrame({'ID':t, 'joke': a_jokes})\n",
    "# this make a CSV file name abhishek.csv and saved the all data into it\n",
    "df.to_csv(\"aashi.csv\",index=False)\n",
    "\n",
    "\n",
    "# In[ ]:\n",
    "\n",
    "\n",
    "\n",
    "\n"
   ]
  },
  {
   "cell_type": "code",
   "execution_count": null,
   "metadata": {},
   "outputs": [],
   "source": []
  }
 ],
 "metadata": {
  "kernelspec": {
   "display_name": "Python 3",
   "language": "python",
   "name": "python3"
  },
  "language_info": {
   "codemirror_mode": {
    "name": "ipython",
    "version": 3
   },
   "file_extension": ".py",
   "mimetype": "text/x-python",
   "name": "python",
   "nbconvert_exporter": "python",
   "pygments_lexer": "ipython3",
   "version": "3.7.6"
  }
 },
 "nbformat": 4,
 "nbformat_minor": 2
}
