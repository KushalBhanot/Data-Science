{
 "cells": [
  {
   "cell_type": "markdown",
   "metadata": {},
   "source": [
    "## 2. Playing the game with a Random Strategy\n",
    "- Game Episode\n",
    "- step() function in more detail\n",
    "- Game Over?"
   ]
  },
  {
   "cell_type": "code",
   "execution_count": 7,
   "metadata": {},
   "outputs": [],
   "source": [
    "import gym"
   ]
  },
  {
   "cell_type": "code",
   "execution_count": 8,
   "metadata": {},
   "outputs": [],
   "source": [
    "env = gym.make('CartPole-v0')"
   ]
  },
  {
   "cell_type": "code",
   "execution_count": 9,
   "metadata": {},
   "outputs": [
    {
     "data": {
      "text/plain": [
       "array([ 0.00750698,  0.04751702, -0.03463828, -0.03839277])"
      ]
     },
     "execution_count": 9,
     "metadata": {},
     "output_type": "execute_result"
    }
   ],
   "source": [
    "env.reset()"
   ]
  },
  {
   "cell_type": "code",
   "execution_count": 14,
   "metadata": {},
   "outputs": [
    {
     "name": "stdout",
     "output_type": "stream",
     "text": [
      "Game episode: 0/20, Score: 27\n",
      "Game episode: 1/20, Score: 18\n",
      "Game episode: 2/20, Score: 11\n",
      "Game episode: 3/20, Score: 17\n",
      "Game episode: 4/20, Score: 24\n",
      "Game episode: 5/20, Score: 32\n",
      "Game episode: 6/20, Score: 10\n",
      "Game episode: 7/20, Score: 22\n",
      "Game episode: 8/20, Score: 25\n",
      "Game episode: 9/20, Score: 13\n",
      "Game episode: 11/20, Score: 10\n",
      "Game episode: 12/20, Score: 13\n",
      "Game episode: 13/20, Score: 11\n",
      "Game episode: 14/20, Score: 28\n",
      "Game episode: 15/20, Score: 19\n",
      "Game episode: 16/20, Score: 31\n",
      "Game episode: 17/20, Score: 13\n",
      "Game episode: 18/20, Score: 22\n",
      "Game episode: 19/20, Score: 19\n",
      "All 20 episodes are over now!\n"
     ]
    }
   ],
   "source": [
    "for e in range(20): #20 episodes\n",
    "    observation = env.reset()\n",
    "    for t in range(50):\n",
    "        env.render()\n",
    "        action = env.action_space.sample()\n",
    "        obervation, reward, done, info = env.step(action)\n",
    "        \n",
    "        if done:\n",
    "            print(\"Game episode: {}/{}, Score: {}\".format(e, 20, t))\n",
    "            break\n",
    "env.close()\n",
    "print(\"All 20 episodes are over now!\")"
   ]
  },
  {
   "cell_type": "code",
   "execution_count": null,
   "metadata": {},
   "outputs": [],
   "source": []
  }
 ],
 "metadata": {
  "kernelspec": {
   "display_name": "Python 3",
   "language": "python",
   "name": "python3"
  },
  "language_info": {
   "codemirror_mode": {
    "name": "ipython",
    "version": 3
   },
   "file_extension": ".py",
   "mimetype": "text/x-python",
   "name": "python",
   "nbconvert_exporter": "python",
   "pygments_lexer": "ipython3",
   "version": "3.8.2"
  }
 },
 "nbformat": 4,
 "nbformat_minor": 4
}
